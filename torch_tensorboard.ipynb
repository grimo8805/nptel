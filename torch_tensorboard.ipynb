{
  "nbformat": 4,
  "nbformat_minor": 0,
  "metadata": {
    "colab": {
      "provenance": [],
      "gpuType": "T4",
      "authorship_tag": "ABX9TyOZXR5DY58ez98Zuc8kqvlJ",
      "include_colab_link": true
    },
    "kernelspec": {
      "name": "python3",
      "display_name": "Python 3"
    },
    "language_info": {
      "name": "python"
    },
    "accelerator": "GPU"
  },
  "cells": [
    {
      "cell_type": "markdown",
      "metadata": {
        "id": "view-in-github",
        "colab_type": "text"
      },
      "source": [
        "<a href=\"https://colab.research.google.com/github/grimo8805/nptel/blob/main/torch_tensorboard.ipynb\" target=\"_parent\"><img src=\"https://colab.research.google.com/assets/colab-badge.svg\" alt=\"Open In Colab\"/></a>"
      ]
    },
    {
      "cell_type": "code",
      "source": [
        "import torch\n",
        "import torchvision\n",
        "import torchvision.transforms as transforms\n",
        "import matplotlib.pyplot as plt\n",
        "import numpy as np\n",
        "import torch.optim as optim\n",
        "import torch.nn as nn\n",
        "import torch.nn.functional as F\n",
        "from itertools import product\n",
        "torch.set_printoptions(linewidth=120)\n",
        "from torch.utils.tensorboard import SummaryWriter\n"
      ],
      "metadata": {
        "id": "-c868CUnhSGy"
      },
      "execution_count": null,
      "outputs": []
    },
    {
      "cell_type": "code",
      "source": [
        "#loading datasets\n",
        "train_set=torchvision.datasets.FashionMNIST(root='./data',train=True,download=True,transform=transforms.ToTensor())\n",
        "device=('cuda' if torch.cuda.is_available() else 'cpu')\n",
        "\n",
        "#hyparmeters\n",
        "parameters=dict(\n",
        "    lr=[0.01,0.001],\n",
        "    batch_size=[32,64,128],\n",
        "    shuffle=[True,False]\n",
        ")\n",
        "param_values=[v for v in parameters.values()]\n"
      ],
      "metadata": {
        "colab": {
          "base_uri": "https://localhost:8080/"
        },
        "id": "XIfUzyaomAho",
        "outputId": "be8b3ac8-997b-4e5c-c754-9e0aa87ea3fc"
      },
      "execution_count": null,
      "outputs": [
        {
          "output_type": "stream",
          "name": "stdout",
          "text": [
            "Downloading http://fashion-mnist.s3-website.eu-central-1.amazonaws.com/train-images-idx3-ubyte.gz\n",
            "Downloading http://fashion-mnist.s3-website.eu-central-1.amazonaws.com/train-images-idx3-ubyte.gz to ./data/FashionMNIST/raw/train-images-idx3-ubyte.gz\n"
          ]
        },
        {
          "output_type": "stream",
          "name": "stderr",
          "text": [
            "100%|██████████| 26421880/26421880 [00:02<00:00, 12360400.39it/s]\n"
          ]
        },
        {
          "output_type": "stream",
          "name": "stdout",
          "text": [
            "Extracting ./data/FashionMNIST/raw/train-images-idx3-ubyte.gz to ./data/FashionMNIST/raw\n",
            "\n",
            "Downloading http://fashion-mnist.s3-website.eu-central-1.amazonaws.com/train-labels-idx1-ubyte.gz\n",
            "Downloading http://fashion-mnist.s3-website.eu-central-1.amazonaws.com/train-labels-idx1-ubyte.gz to ./data/FashionMNIST/raw/train-labels-idx1-ubyte.gz\n"
          ]
        },
        {
          "output_type": "stream",
          "name": "stderr",
          "text": [
            "100%|██████████| 29515/29515 [00:00<00:00, 207566.75it/s]\n"
          ]
        },
        {
          "output_type": "stream",
          "name": "stdout",
          "text": [
            "Extracting ./data/FashionMNIST/raw/train-labels-idx1-ubyte.gz to ./data/FashionMNIST/raw\n",
            "\n",
            "Downloading http://fashion-mnist.s3-website.eu-central-1.amazonaws.com/t10k-images-idx3-ubyte.gz\n",
            "Downloading http://fashion-mnist.s3-website.eu-central-1.amazonaws.com/t10k-images-idx3-ubyte.gz to ./data/FashionMNIST/raw/t10k-images-idx3-ubyte.gz\n"
          ]
        },
        {
          "output_type": "stream",
          "name": "stderr",
          "text": [
            "100%|██████████| 4422102/4422102 [00:01<00:00, 3888135.76it/s]\n"
          ]
        },
        {
          "output_type": "stream",
          "name": "stdout",
          "text": [
            "Extracting ./data/FashionMNIST/raw/t10k-images-idx3-ubyte.gz to ./data/FashionMNIST/raw\n",
            "\n",
            "Downloading http://fashion-mnist.s3-website.eu-central-1.amazonaws.com/t10k-labels-idx1-ubyte.gz\n",
            "Downloading http://fashion-mnist.s3-website.eu-central-1.amazonaws.com/t10k-labels-idx1-ubyte.gz to ./data/FashionMNIST/raw/t10k-labels-idx1-ubyte.gz\n"
          ]
        },
        {
          "output_type": "stream",
          "name": "stderr",
          "text": [
            "100%|██████████| 5148/5148 [00:00<00:00, 5652428.53it/s]"
          ]
        },
        {
          "output_type": "stream",
          "name": "stdout",
          "text": [
            "Extracting ./data/FashionMNIST/raw/t10k-labels-idx1-ubyte.gz to ./data/FashionMNIST/raw\n",
            "\n"
          ]
        },
        {
          "output_type": "stream",
          "name": "stderr",
          "text": [
            "\n"
          ]
        }
      ]
    },
    {
      "cell_type": "code",
      "source": [
        "#training Loop\n",
        "model=CNN()\n",
        "for run_id,(lr,batch_size,shuffle) in enumerate(product(*param_values)):\n",
        "  print('run_id',run_id+1)\n",
        "  model=CNN().to(device)\n",
        "  trainloader=torch.utils.data.DataLoader(train_set,batch_size=batch_size,shuffle=shuffle)\n",
        "  optimizer=optim.Adam(model.parameters(),lr=lr)\n",
        "  criterion=torch.nn.CrossEntropyLoss()\n",
        "  comment=f'batch_size={batch_size} lr={lr} shuffle={shuffle}'\n",
        "  tb=SummaryWriter(comment=comment)\n",
        "  images,labels=next(iter(trainloader))\n",
        "  images, labels = images.cuda(), labels.cuda()\n",
        "  grid=torchvision.utils.make_grid(images)\n",
        "  tb.add_image('images',grid)\n",
        "  tb.add_graph(model,images)\n",
        "  for epoch in range(5):\n",
        "    total_loss=0\n",
        "    total_correct=0\n",
        "    for images,labels in trainloader:\n",
        "      images,labels=images.to(device),labels.to(device)\n",
        "      preds=model(images)\n",
        "      loss=criterion(preds,labels)\n",
        "      total_loss+=loss.item()\n",
        "      total_correct+=get_num_correct(preds,labels)\n",
        "\n",
        "      optimizer.zero_grad()\n",
        "      loss.backward()\n",
        "      optimizer.step()\n",
        "    tb.add_scalar(\"Loss\",total_loss,epoch)\n",
        "    tb.add_scalar(\"Correct\",total_correct,epoch)\n",
        "    tb.add_scalar('Accuracy',total_correct/len(train_set),epoch)\n",
        "\n",
        "    print(\"batch size:\",batch_size,\"lr:\",lr,\"shuffle:\",shuffle)\n",
        "    print(\"epoch\",epoch,\"total_correct\",total_correct,\"loss: \",total_loss)\n",
        "    print('_______________________________________________')\n",
        "    tb.add_hparams(\n",
        "        {\"lr\": lr,\"batch size \": batch_size,\"shuffle\":shuffle},\n",
        "        {\n",
        "            \"accuracy\":total_correct/len(train_set),\n",
        "            \"loss\": total_loss\n",
        "        }\n",
        "    )\n",
        "tb.close()\n",
        "\n"
      ],
      "metadata": {
        "colab": {
          "base_uri": "https://localhost:8080/"
        },
        "id": "jl64kU4dt1x8",
        "outputId": "4f3b7bb5-021c-4753-da40-e1bc39279539"
      },
      "execution_count": null,
      "outputs": [
        {
          "output_type": "stream",
          "name": "stdout",
          "text": [
            "run_id 1\n",
            "batch size: 32 lr: 0.01 shuffle: True\n",
            "epoch 0 total_correct 47415 loss:  1050.8824383318424\n",
            "_______________________________________________\n",
            "batch size: 32 lr: 0.01 shuffle: True\n",
            "epoch 1 total_correct 50359 loss:  807.7478193119168\n",
            "_______________________________________________\n",
            "batch size: 32 lr: 0.01 shuffle: True\n",
            "epoch 2 total_correct 50756 loss:  773.777516014874\n",
            "_______________________________________________\n",
            "batch size: 32 lr: 0.01 shuffle: True\n",
            "epoch 3 total_correct 51168 loss:  756.0815527662635\n",
            "_______________________________________________\n",
            "batch size: 32 lr: 0.01 shuffle: True\n",
            "epoch 4 total_correct 51342 loss:  740.6764306277037\n",
            "_______________________________________________\n",
            "run_id 2\n",
            "batch size: 32 lr: 0.01 shuffle: False\n",
            "epoch 0 total_correct 45927 loss:  1151.6131959706545\n",
            "_______________________________________________\n",
            "batch size: 32 lr: 0.01 shuffle: False\n",
            "epoch 1 total_correct 49519 loss:  894.3510476350784\n",
            "_______________________________________________\n",
            "batch size: 32 lr: 0.01 shuffle: False\n",
            "epoch 2 total_correct 50082 loss:  845.7850306034088\n",
            "_______________________________________________\n",
            "batch size: 32 lr: 0.01 shuffle: False\n",
            "epoch 3 total_correct 50481 loss:  811.4146245718002\n",
            "_______________________________________________\n",
            "batch size: 32 lr: 0.01 shuffle: False\n",
            "epoch 4 total_correct 50692 loss:  794.0140760168433\n",
            "_______________________________________________\n",
            "run_id 3\n",
            "batch size: 64 lr: 0.01 shuffle: True\n",
            "epoch 0 total_correct 46949 loss:  538.4627445191145\n",
            "_______________________________________________\n",
            "batch size: 64 lr: 0.01 shuffle: True\n",
            "epoch 1 total_correct 51198 loss:  376.26386815309525\n",
            "_______________________________________________\n",
            "batch size: 64 lr: 0.01 shuffle: True\n",
            "epoch 2 total_correct 51910 loss:  344.59628223627806\n",
            "_______________________________________________\n",
            "batch size: 64 lr: 0.01 shuffle: True\n",
            "epoch 3 total_correct 52326 loss:  328.3675923421979\n",
            "_______________________________________________\n",
            "batch size: 64 lr: 0.01 shuffle: True\n",
            "epoch 4 total_correct 52549 loss:  315.42490687966347\n",
            "_______________________________________________\n",
            "run_id 4\n",
            "batch size: 64 lr: 0.01 shuffle: False\n",
            "epoch 0 total_correct 47744 loss:  507.8614401072264\n",
            "_______________________________________________\n",
            "batch size: 64 lr: 0.01 shuffle: False\n",
            "epoch 1 total_correct 51212 loss:  372.4885501861572\n",
            "_______________________________________________\n",
            "batch size: 64 lr: 0.01 shuffle: False\n",
            "epoch 2 total_correct 51677 loss:  350.27762964367867\n",
            "_______________________________________________\n",
            "batch size: 64 lr: 0.01 shuffle: False\n",
            "epoch 3 total_correct 51946 loss:  340.00981280207634\n",
            "_______________________________________________\n",
            "batch size: 64 lr: 0.01 shuffle: False\n",
            "epoch 4 total_correct 52207 loss:  332.16601103544235\n",
            "_______________________________________________\n",
            "run_id 5\n",
            "batch size: 128 lr: 0.01 shuffle: True\n",
            "epoch 0 total_correct 45475 loss:  298.05532601475716\n",
            "_______________________________________________\n",
            "batch size: 128 lr: 0.01 shuffle: True\n",
            "epoch 1 total_correct 50688 loss:  197.75336936116219\n",
            "_______________________________________________\n",
            "batch size: 128 lr: 0.01 shuffle: True\n",
            "epoch 2 total_correct 51698 loss:  174.81166024506092\n",
            "_______________________________________________\n",
            "batch size: 128 lr: 0.01 shuffle: True\n",
            "epoch 3 total_correct 52304 loss:  163.6975009739399\n",
            "_______________________________________________\n",
            "batch size: 128 lr: 0.01 shuffle: True\n",
            "epoch 4 total_correct 52547 loss:  159.03010514378548\n",
            "_______________________________________________\n",
            "run_id 6\n",
            "batch size: 128 lr: 0.01 shuffle: False\n",
            "epoch 0 total_correct 46677 loss:  274.9756569266319\n",
            "_______________________________________________\n",
            "batch size: 128 lr: 0.01 shuffle: False\n",
            "epoch 1 total_correct 51682 loss:  175.7015177756548\n",
            "_______________________________________________\n",
            "batch size: 128 lr: 0.01 shuffle: False\n",
            "epoch 2 total_correct 52297 loss:  161.62929689884186\n",
            "_______________________________________________\n",
            "batch size: 128 lr: 0.01 shuffle: False\n",
            "epoch 3 total_correct 52577 loss:  153.9348942041397\n",
            "_______________________________________________\n",
            "batch size: 128 lr: 0.01 shuffle: False\n",
            "epoch 4 total_correct 52798 loss:  150.4542760103941\n",
            "_______________________________________________\n",
            "run_id 7\n",
            "batch size: 32 lr: 0.001 shuffle: True\n",
            "epoch 0 total_correct 45857 loss:  1162.19680018723\n",
            "_______________________________________________\n",
            "batch size: 32 lr: 0.001 shuffle: True\n",
            "epoch 1 total_correct 51020 loss:  768.3239699602127\n",
            "_______________________________________________\n",
            "batch size: 32 lr: 0.001 shuffle: True\n",
            "epoch 2 total_correct 52367 loss:  657.4511490054429\n",
            "_______________________________________________\n",
            "batch size: 32 lr: 0.001 shuffle: True\n",
            "epoch 3 total_correct 52919 loss:  600.2916892953217\n",
            "_______________________________________________\n",
            "batch size: 32 lr: 0.001 shuffle: True\n",
            "epoch 4 total_correct 53409 loss:  560.7822103239596\n",
            "_______________________________________________\n",
            "run_id 8\n",
            "batch size: 32 lr: 0.001 shuffle: False\n",
            "epoch 0 total_correct 45799 loss:  1184.691870212555\n",
            "_______________________________________________\n",
            "batch size: 32 lr: 0.001 shuffle: False\n",
            "epoch 1 total_correct 50988 loss:  782.8768733888865\n",
            "_______________________________________________\n",
            "batch size: 32 lr: 0.001 shuffle: False\n",
            "epoch 2 total_correct 52175 loss:  667.2060798741877\n",
            "_______________________________________________\n",
            "batch size: 32 lr: 0.001 shuffle: False\n",
            "epoch 3 total_correct 52862 loss:  604.0974687077105\n",
            "_______________________________________________\n",
            "batch size: 32 lr: 0.001 shuffle: False\n",
            "epoch 4 total_correct 53336 loss:  561.7231607586145\n",
            "_______________________________________________\n",
            "run_id 9\n",
            "batch size: 64 lr: 0.001 shuffle: True\n",
            "epoch 0 total_correct 43044 loss:  703.5228576362133\n",
            "_______________________________________________\n",
            "batch size: 64 lr: 0.001 shuffle: True\n",
            "epoch 1 total_correct 48347 loss:  486.16653440892696\n",
            "_______________________________________________\n",
            "batch size: 64 lr: 0.001 shuffle: True\n",
            "epoch 2 total_correct 50302 loss:  416.43679259717464\n",
            "_______________________________________________\n",
            "batch size: 64 lr: 0.001 shuffle: True\n",
            "epoch 3 total_correct 51384 loss:  370.47737361490726\n",
            "_______________________________________________\n",
            "batch size: 64 lr: 0.001 shuffle: True\n",
            "epoch 4 total_correct 51986 loss:  340.33832811564207\n",
            "_______________________________________________\n",
            "run_id 10\n",
            "batch size: 64 lr: 0.001 shuffle: False\n",
            "epoch 0 total_correct 44617 loss:  642.6266518682241\n",
            "_______________________________________________\n",
            "batch size: 64 lr: 0.001 shuffle: False\n",
            "epoch 1 total_correct 50221 loss:  419.73503693938255\n",
            "_______________________________________________\n",
            "batch size: 64 lr: 0.001 shuffle: False\n",
            "epoch 2 total_correct 51495 loss:  362.7611882388592\n",
            "_______________________________________________\n",
            "batch size: 64 lr: 0.001 shuffle: False\n",
            "epoch 3 total_correct 52232 loss:  330.0501276552677\n",
            "_______________________________________________\n",
            "batch size: 64 lr: 0.001 shuffle: False\n",
            "epoch 4 total_correct 52678 loss:  308.33018363267183\n",
            "_______________________________________________\n",
            "run_id 11\n",
            "batch size: 128 lr: 0.001 shuffle: True\n",
            "epoch 0 total_correct 41323 loss:  384.8754236996174\n",
            "_______________________________________________\n",
            "batch size: 128 lr: 0.001 shuffle: True\n",
            "epoch 1 total_correct 47989 loss:  245.11068817973137\n",
            "_______________________________________________\n",
            "batch size: 128 lr: 0.001 shuffle: True\n",
            "epoch 2 total_correct 50291 loss:  208.2877094745636\n",
            "_______________________________________________\n",
            "batch size: 128 lr: 0.001 shuffle: True\n",
            "epoch 3 total_correct 51340 loss:  185.95661790668964\n",
            "_______________________________________________\n",
            "batch size: 128 lr: 0.001 shuffle: True\n",
            "epoch 4 total_correct 51998 loss:  172.3393004387617\n",
            "_______________________________________________\n",
            "run_id 12\n",
            "batch size: 128 lr: 0.001 shuffle: False\n",
            "epoch 0 total_correct 42198 loss:  382.8352284729481\n",
            "_______________________________________________\n",
            "batch size: 128 lr: 0.001 shuffle: False\n",
            "epoch 1 total_correct 49421 loss:  222.75623098015785\n",
            "_______________________________________________\n",
            "batch size: 128 lr: 0.001 shuffle: False\n",
            "epoch 2 total_correct 51226 loss:  189.91990479826927\n",
            "_______________________________________________\n",
            "batch size: 128 lr: 0.001 shuffle: False\n",
            "epoch 3 total_correct 52081 loss:  171.7157056182623\n",
            "_______________________________________________\n",
            "batch size: 128 lr: 0.001 shuffle: False\n",
            "epoch 4 total_correct 52585 loss:  159.63790130615234\n",
            "_______________________________________________\n"
          ]
        }
      ]
    },
    {
      "cell_type": "code",
      "source": [
        "#helper function\n",
        "def get_num_correct(preds,labels):\n",
        "  return preds.argmax(dim=1).eq(labels).sum().item()\n",
        "#CNN model\n",
        "class CNN(nn.Module):\n",
        "  def __init__(self):\n",
        "    super().__init__()\n",
        "    self.conv1=nn.Conv2d(in_channels=1,out_channels=6,kernel_size=5)\n",
        "    self.conv2=nn.Conv2d(in_channels=6,out_channels=12,kernel_size=5)\n",
        "    self.fc1=nn.Linear(12*4*4,120)\n",
        "    self.fc2=nn.Linear(120,60)\n",
        "    self.out=nn.Linear(60,10)\n",
        "  def forward(self,x):\n",
        "    x=F.relu(self.conv1(x))\n",
        "    x=F.max_pool2d(x,kernel_size=2,stride=2)\n",
        "    x=F.relu(self.conv2(x))\n",
        "    x=F.max_pool2d(x,kernel_size=2,stride=2)\n",
        "    x=torch.flatten(x,start_dim=1)\n",
        "    x=F.relu(self.fc1(x))\n",
        "    x=F.relu(self.fc2(x))\n",
        "    x=self.out(x)\n",
        "    return x\n"
      ],
      "metadata": {
        "id": "8eMrw9tEciou"
      },
      "execution_count": null,
      "outputs": []
    }
  ]
}